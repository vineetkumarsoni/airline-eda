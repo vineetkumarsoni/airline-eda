{
 "cells": [
  {
   "cell_type": "code",
   "execution_count": 29,
   "id": "0402fec7-d5f8-4da3-8de0-75d869ae2059",
   "metadata": {},
   "outputs": [],
   "source": [
    "import pandas as pd\n",
    "import numpy as np"
   ]
  },
  {
   "cell_type": "code",
   "execution_count": 2,
   "id": "ac112ca9-b5e4-4443-931b-388be565e414",
   "metadata": {},
   "outputs": [],
   "source": [
    "df = pd.read_csv(\"cleaned_air.csv\")"
   ]
  },
  {
   "cell_type": "code",
   "execution_count": 3,
   "id": "2a1e4094-085b-407c-8a70-f763fab4f37b",
   "metadata": {},
   "outputs": [
    {
     "data": {
      "text/html": [
       "<div>\n",
       "<style scoped>\n",
       "    .dataframe tbody tr th:only-of-type {\n",
       "        vertical-align: middle;\n",
       "    }\n",
       "\n",
       "    .dataframe tbody tr th {\n",
       "        vertical-align: top;\n",
       "    }\n",
       "\n",
       "    .dataframe thead th {\n",
       "        text-align: right;\n",
       "    }\n",
       "</style>\n",
       "<table border=\"1\" class=\"dataframe\">\n",
       "  <thead>\n",
       "    <tr style=\"text-align: right;\">\n",
       "      <th></th>\n",
       "      <th>Operating Airline</th>\n",
       "      <th>Operating Airline IATA Code</th>\n",
       "      <th>Published Airline</th>\n",
       "      <th>Published Airline IATA Code</th>\n",
       "      <th>GEO Summary</th>\n",
       "      <th>GEO Region</th>\n",
       "      <th>Landing Aircraft Type</th>\n",
       "      <th>Aircraft Body Type</th>\n",
       "      <th>Aircraft Manufacturer</th>\n",
       "      <th>Aircraft Model</th>\n",
       "      <th>Landing Count</th>\n",
       "      <th>Total Landed Weight</th>\n",
       "    </tr>\n",
       "  </thead>\n",
       "  <tbody>\n",
       "    <tr>\n",
       "      <th>0</th>\n",
       "      <td>SkyWest Airlines</td>\n",
       "      <td>OO</td>\n",
       "      <td>United Airlines</td>\n",
       "      <td>UA</td>\n",
       "      <td>International</td>\n",
       "      <td>Canada</td>\n",
       "      <td>Passenger</td>\n",
       "      <td>Regional Jet</td>\n",
       "      <td>Bombardier</td>\n",
       "      <td>CRJ2</td>\n",
       "      <td>30</td>\n",
       "      <td>1410000</td>\n",
       "    </tr>\n",
       "    <tr>\n",
       "      <th>1</th>\n",
       "      <td>Air Canada</td>\n",
       "      <td>AC</td>\n",
       "      <td>Air Canada</td>\n",
       "      <td>AC</td>\n",
       "      <td>International</td>\n",
       "      <td>Canada</td>\n",
       "      <td>Passenger</td>\n",
       "      <td>Narrow Body</td>\n",
       "      <td>Airbus</td>\n",
       "      <td>A320</td>\n",
       "      <td>125</td>\n",
       "      <td>17787978</td>\n",
       "    </tr>\n",
       "    <tr>\n",
       "      <th>2</th>\n",
       "      <td>Japan Airlines</td>\n",
       "      <td>JL</td>\n",
       "      <td>Japan Airlines</td>\n",
       "      <td>JL</td>\n",
       "      <td>International</td>\n",
       "      <td>Asia</td>\n",
       "      <td>Passenger</td>\n",
       "      <td>Wide Body</td>\n",
       "      <td>Boeing</td>\n",
       "      <td>B773</td>\n",
       "      <td>30</td>\n",
       "      <td>16620000</td>\n",
       "    </tr>\n",
       "    <tr>\n",
       "      <th>3</th>\n",
       "      <td>COPA Airlines, Inc.</td>\n",
       "      <td>CM</td>\n",
       "      <td>COPA Airlines, Inc.</td>\n",
       "      <td>CM</td>\n",
       "      <td>International</td>\n",
       "      <td>Central America</td>\n",
       "      <td>Passenger</td>\n",
       "      <td>Narrow Body</td>\n",
       "      <td>Boeing</td>\n",
       "      <td>B739</td>\n",
       "      <td>3</td>\n",
       "      <td>491700</td>\n",
       "    </tr>\n",
       "    <tr>\n",
       "      <th>4</th>\n",
       "      <td>Hong Kong Airlines Limited</td>\n",
       "      <td>HX</td>\n",
       "      <td>Hong Kong Airlines Limited</td>\n",
       "      <td>HX</td>\n",
       "      <td>International</td>\n",
       "      <td>Asia</td>\n",
       "      <td>Passenger</td>\n",
       "      <td>Wide Body</td>\n",
       "      <td>Airbus</td>\n",
       "      <td>A359</td>\n",
       "      <td>16</td>\n",
       "      <td>7301712</td>\n",
       "    </tr>\n",
       "  </tbody>\n",
       "</table>\n",
       "</div>"
      ],
      "text/plain": [
       "            Operating Airline Operating Airline IATA Code  \\\n",
       "0            SkyWest Airlines                          OO   \n",
       "1                  Air Canada                          AC   \n",
       "2              Japan Airlines                          JL   \n",
       "3         COPA Airlines, Inc.                          CM   \n",
       "4  Hong Kong Airlines Limited                          HX   \n",
       "\n",
       "            Published Airline Published Airline IATA Code    GEO Summary  \\\n",
       "0             United Airlines                          UA  International   \n",
       "1                  Air Canada                          AC  International   \n",
       "2              Japan Airlines                          JL  International   \n",
       "3         COPA Airlines, Inc.                          CM  International   \n",
       "4  Hong Kong Airlines Limited                          HX  International   \n",
       "\n",
       "        GEO Region Landing Aircraft Type Aircraft Body Type  \\\n",
       "0           Canada             Passenger       Regional Jet   \n",
       "1           Canada             Passenger        Narrow Body   \n",
       "2             Asia             Passenger          Wide Body   \n",
       "3  Central America             Passenger        Narrow Body   \n",
       "4             Asia             Passenger          Wide Body   \n",
       "\n",
       "  Aircraft Manufacturer Aircraft Model  Landing Count  Total Landed Weight  \n",
       "0            Bombardier           CRJ2             30              1410000  \n",
       "1                Airbus           A320            125             17787978  \n",
       "2                Boeing           B773             30             16620000  \n",
       "3                Boeing           B739              3               491700  \n",
       "4                Airbus           A359             16              7301712  "
      ]
     },
     "execution_count": 3,
     "metadata": {},
     "output_type": "execute_result"
    }
   ],
   "source": [
    "df.head()"
   ]
  },
  {
   "cell_type": "code",
   "execution_count": 7,
   "id": "a95efde2-08da-425e-9e3e-a3bbc8482df5",
   "metadata": {},
   "outputs": [
    {
     "name": "stdout",
     "output_type": "stream",
     "text": [
      "<class 'pandas.core.frame.DataFrame'>\n",
      "RangeIndex: 22045 entries, 0 to 22044\n",
      "Data columns (total 12 columns):\n",
      " #   Column                       Non-Null Count  Dtype \n",
      "---  ------                       --------------  ----- \n",
      " 0   Operating Airline            22045 non-null  object\n",
      " 1   Operating Airline IATA Code  22045 non-null  object\n",
      " 2   Published Airline            22045 non-null  object\n",
      " 3   Published Airline IATA Code  22045 non-null  object\n",
      " 4   GEO Summary                  22045 non-null  object\n",
      " 5   GEO Region                   22045 non-null  object\n",
      " 6   Landing Aircraft Type        22045 non-null  object\n",
      " 7   Aircraft Body Type           22045 non-null  object\n",
      " 8   Aircraft Manufacturer        22045 non-null  object\n",
      " 9   Aircraft Model               22045 non-null  object\n",
      " 10  Landing Count                22045 non-null  int64 \n",
      " 11  Total Landed Weight          22045 non-null  int64 \n",
      "dtypes: int64(2), object(10)\n",
      "memory usage: 2.0+ MB\n",
      "None\n"
     ]
    }
   ],
   "source": [
    "print(df.info())"
   ]
  },
  {
   "cell_type": "code",
   "execution_count": 8,
   "id": "538a2047-0930-4e96-9579-5c27f8708493",
   "metadata": {},
   "outputs": [
    {
     "name": "stdout",
     "output_type": "stream",
     "text": [
      "       Landing Count  Total Landed Weight\n",
      "count   22045.000000         2.204500e+04\n",
      "mean      113.392425         1.899138e+07\n",
      "std       249.636873         3.033287e+07\n",
      "min         1.000000         6.850000e+03\n",
      "25%        14.000000         3.035292e+06\n",
      "50%        31.000000         9.660000e+06\n",
      "75%        83.000000         1.953000e+07\n",
      "max      2245.000000         2.730420e+08\n"
     ]
    }
   ],
   "source": [
    "print(df.describe())"
   ]
  },
  {
   "cell_type": "code",
   "execution_count": 4,
   "id": "7f939fcb-63b6-475a-9287-5e84c5a0f364",
   "metadata": {},
   "outputs": [
    {
     "data": {
      "text/plain": [
       "(22045, 12)"
      ]
     },
     "execution_count": 4,
     "metadata": {},
     "output_type": "execute_result"
    }
   ],
   "source": [
    "df.shape"
   ]
  },
  {
   "cell_type": "code",
   "execution_count": 44,
   "id": "a5adb0b6-ac22-4db4-b01f-d68523a64aca",
   "metadata": {},
   "outputs": [
    {
     "data": {
      "text/html": [
       "<div>\n",
       "<style scoped>\n",
       "    .dataframe tbody tr th:only-of-type {\n",
       "        vertical-align: middle;\n",
       "    }\n",
       "\n",
       "    .dataframe tbody tr th {\n",
       "        vertical-align: top;\n",
       "    }\n",
       "\n",
       "    .dataframe thead th {\n",
       "        text-align: right;\n",
       "    }\n",
       "</style>\n",
       "<table border=\"1\" class=\"dataframe\">\n",
       "  <thead>\n",
       "    <tr style=\"text-align: right;\">\n",
       "      <th></th>\n",
       "      <th>Landing Count</th>\n",
       "      <th>Total Landed Weight</th>\n",
       "      <th>New Column</th>\n",
       "    </tr>\n",
       "  </thead>\n",
       "  <tbody>\n",
       "    <tr>\n",
       "      <th>0</th>\n",
       "      <td>30</td>\n",
       "      <td>1410000</td>\n",
       "      <td>42300000</td>\n",
       "    </tr>\n",
       "    <tr>\n",
       "      <th>1</th>\n",
       "      <td>125</td>\n",
       "      <td>17787978</td>\n",
       "      <td>2223497250</td>\n",
       "    </tr>\n",
       "    <tr>\n",
       "      <th>2</th>\n",
       "      <td>30</td>\n",
       "      <td>16620000</td>\n",
       "      <td>498600000</td>\n",
       "    </tr>\n",
       "    <tr>\n",
       "      <th>3</th>\n",
       "      <td>3</td>\n",
       "      <td>491700</td>\n",
       "      <td>1475100</td>\n",
       "    </tr>\n",
       "    <tr>\n",
       "      <th>4</th>\n",
       "      <td>16</td>\n",
       "      <td>7301712</td>\n",
       "      <td>116827392</td>\n",
       "    </tr>\n",
       "    <tr>\n",
       "      <th>...</th>\n",
       "      <td>...</td>\n",
       "      <td>...</td>\n",
       "      <td>...</td>\n",
       "    </tr>\n",
       "    <tr>\n",
       "      <th>22040</th>\n",
       "      <td>155</td>\n",
       "      <td>7285000</td>\n",
       "      <td>1129175000</td>\n",
       "    </tr>\n",
       "    <tr>\n",
       "      <th>22041</th>\n",
       "      <td>268</td>\n",
       "      <td>17956000</td>\n",
       "      <td>4812208000</td>\n",
       "    </tr>\n",
       "    <tr>\n",
       "      <th>22042</th>\n",
       "      <td>62</td>\n",
       "      <td>4154000</td>\n",
       "      <td>257548000</td>\n",
       "    </tr>\n",
       "    <tr>\n",
       "      <th>22043</th>\n",
       "      <td>1360</td>\n",
       "      <td>63920000</td>\n",
       "      <td>86931200000</td>\n",
       "    </tr>\n",
       "    <tr>\n",
       "      <th>22044</th>\n",
       "      <td>1655</td>\n",
       "      <td>42699000</td>\n",
       "      <td>70666845000</td>\n",
       "    </tr>\n",
       "  </tbody>\n",
       "</table>\n",
       "<p>22045 rows × 3 columns</p>\n",
       "</div>"
      ],
      "text/plain": [
       "       Landing Count  Total Landed Weight   New Column\n",
       "0                 30              1410000     42300000\n",
       "1                125             17787978   2223497250\n",
       "2                 30             16620000    498600000\n",
       "3                  3               491700      1475100\n",
       "4                 16              7301712    116827392\n",
       "...              ...                  ...          ...\n",
       "22040            155              7285000   1129175000\n",
       "22041            268             17956000   4812208000\n",
       "22042             62              4154000    257548000\n",
       "22043           1360             63920000  86931200000\n",
       "22044           1655             42699000  70666845000\n",
       "\n",
       "[22045 rows x 3 columns]"
      ]
     },
     "execution_count": 44,
     "metadata": {},
     "output_type": "execute_result"
    }
   ],
   "source": [
    "df[df.dtypes[df.dtypes == 'int64'].index]"
   ]
  },
  {
   "cell_type": "code",
   "execution_count": 46,
   "id": "ca629a4d-df23-45dd-bea3-fcdfc4e8790e",
   "metadata": {},
   "outputs": [
    {
     "data": {
      "text/plain": [
       "['Regional Jet', 'Narrow Body', 'Wide Body', 'Narrow Body', 'Wide Body', ..., 'Regional Jet', 'Regional Jet', 'Regional Jet', 'Regional Jet', 'Turbo Prop']\n",
       "Length: 22045\n",
       "Categories (4, object): ['Narrow Body', 'Regional Jet', 'Turbo Prop', 'Wide Body']"
      ]
     },
     "execution_count": 46,
     "metadata": {},
     "output_type": "execute_result"
    }
   ],
   "source": [
    "pd.Categorical(df[\"Aircraft Body Type\"])"
   ]
  },
  {
   "cell_type": "code",
   "execution_count": 47,
   "id": "16b0b456-74c5-48a0-924d-f11d9f2e70a3",
   "metadata": {},
   "outputs": [
    {
     "data": {
      "text/plain": [
       "18708    SkyWest Airlines\n",
       "Name: Operating Airline, dtype: object"
      ]
     },
     "execution_count": 47,
     "metadata": {},
     "output_type": "execute_result"
    }
   ],
   "source": [
    "df[df['Landing Count'] == max(df['Landing Count'])]['Operating Airline']"
   ]
  },
  {
   "cell_type": "code",
   "execution_count": 51,
   "id": "b66b612b-5863-412e-a32c-fcb3d2d85315",
   "metadata": {},
   "outputs": [
    {
     "data": {
      "text/html": [
       "<div>\n",
       "<style scoped>\n",
       "    .dataframe tbody tr th:only-of-type {\n",
       "        vertical-align: middle;\n",
       "    }\n",
       "\n",
       "    .dataframe tbody tr th {\n",
       "        vertical-align: top;\n",
       "    }\n",
       "\n",
       "    .dataframe thead th {\n",
       "        text-align: right;\n",
       "    }\n",
       "</style>\n",
       "<table border=\"1\" class=\"dataframe\">\n",
       "  <thead>\n",
       "    <tr style=\"text-align: right;\">\n",
       "      <th></th>\n",
       "      <th>Operating Airline</th>\n",
       "      <th>Operating Airline IATA Code</th>\n",
       "      <th>Published Airline</th>\n",
       "      <th>Published Airline IATA Code</th>\n",
       "      <th>GEO Summary</th>\n",
       "      <th>GEO Region</th>\n",
       "      <th>Landing Aircraft Type</th>\n",
       "      <th>Aircraft Body Type</th>\n",
       "      <th>Aircraft Manufacturer</th>\n",
       "      <th>Aircraft Model</th>\n",
       "      <th>Landing Count</th>\n",
       "      <th>Total Landed Weight</th>\n",
       "      <th>New Column</th>\n",
       "      <th>Weight Category</th>\n",
       "    </tr>\n",
       "  </thead>\n",
       "  <tbody>\n",
       "    <tr>\n",
       "      <th>7517</th>\n",
       "      <td>United Airlines</td>\n",
       "      <td>UA</td>\n",
       "      <td>United Airlines</td>\n",
       "      <td>UA</td>\n",
       "      <td>International</td>\n",
       "      <td>Asia</td>\n",
       "      <td>Passenger</td>\n",
       "      <td>Wide Body</td>\n",
       "      <td>Boeing</td>\n",
       "      <td>747</td>\n",
       "      <td>185</td>\n",
       "      <td>116550000</td>\n",
       "      <td>21561750000</td>\n",
       "      <td>Heavy</td>\n",
       "    </tr>\n",
       "    <tr>\n",
       "      <th>7641</th>\n",
       "      <td>United Airlines</td>\n",
       "      <td>UA</td>\n",
       "      <td>United Airlines</td>\n",
       "      <td>UA</td>\n",
       "      <td>International</td>\n",
       "      <td>Asia</td>\n",
       "      <td>Passenger</td>\n",
       "      <td>Wide Body</td>\n",
       "      <td>Boeing</td>\n",
       "      <td>747</td>\n",
       "      <td>183</td>\n",
       "      <td>115290000</td>\n",
       "      <td>21098070000</td>\n",
       "      <td>Heavy</td>\n",
       "    </tr>\n",
       "    <tr>\n",
       "      <th>7929</th>\n",
       "      <td>United Airlines</td>\n",
       "      <td>UA</td>\n",
       "      <td>United Airlines</td>\n",
       "      <td>UA</td>\n",
       "      <td>International</td>\n",
       "      <td>Asia</td>\n",
       "      <td>Passenger</td>\n",
       "      <td>Wide Body</td>\n",
       "      <td>Boeing</td>\n",
       "      <td>747</td>\n",
       "      <td>185</td>\n",
       "      <td>116550000</td>\n",
       "      <td>21561750000</td>\n",
       "      <td>Heavy</td>\n",
       "    </tr>\n",
       "    <tr>\n",
       "      <th>7964</th>\n",
       "      <td>United Airlines</td>\n",
       "      <td>UA</td>\n",
       "      <td>United Airlines</td>\n",
       "      <td>UA</td>\n",
       "      <td>International</td>\n",
       "      <td>Asia</td>\n",
       "      <td>Passenger</td>\n",
       "      <td>Wide Body</td>\n",
       "      <td>Boeing</td>\n",
       "      <td>747</td>\n",
       "      <td>181</td>\n",
       "      <td>114030000</td>\n",
       "      <td>20639430000</td>\n",
       "      <td>Heavy</td>\n",
       "    </tr>\n",
       "    <tr>\n",
       "      <th>9529</th>\n",
       "      <td>United Airlines - Pre 07/01/2013</td>\n",
       "      <td>UA</td>\n",
       "      <td>United Airlines - Pre 07/01/2013</td>\n",
       "      <td>UA</td>\n",
       "      <td>International</td>\n",
       "      <td>Asia</td>\n",
       "      <td>Passenger</td>\n",
       "      <td>Wide Body</td>\n",
       "      <td>Boeing</td>\n",
       "      <td>747</td>\n",
       "      <td>186</td>\n",
       "      <td>117180000</td>\n",
       "      <td>21795480000</td>\n",
       "      <td>Heavy</td>\n",
       "    </tr>\n",
       "  </tbody>\n",
       "</table>\n",
       "</div>"
      ],
      "text/plain": [
       "                     Operating Airline Operating Airline IATA Code  \\\n",
       "7517                   United Airlines                          UA   \n",
       "7641                   United Airlines                          UA   \n",
       "7929                   United Airlines                          UA   \n",
       "7964                   United Airlines                          UA   \n",
       "9529  United Airlines - Pre 07/01/2013                          UA   \n",
       "\n",
       "                     Published Airline Published Airline IATA Code  \\\n",
       "7517                   United Airlines                          UA   \n",
       "7641                   United Airlines                          UA   \n",
       "7929                   United Airlines                          UA   \n",
       "7964                   United Airlines                          UA   \n",
       "9529  United Airlines - Pre 07/01/2013                          UA   \n",
       "\n",
       "        GEO Summary GEO Region Landing Aircraft Type Aircraft Body Type  \\\n",
       "7517  International       Asia             Passenger          Wide Body   \n",
       "7641  International       Asia             Passenger          Wide Body   \n",
       "7929  International       Asia             Passenger          Wide Body   \n",
       "7964  International       Asia             Passenger          Wide Body   \n",
       "9529  International       Asia             Passenger          Wide Body   \n",
       "\n",
       "     Aircraft Manufacturer Aircraft Model  Landing Count  Total Landed Weight  \\\n",
       "7517                Boeing            747            185            116550000   \n",
       "7641                Boeing            747            183            115290000   \n",
       "7929                Boeing            747            185            116550000   \n",
       "7964                Boeing            747            181            114030000   \n",
       "9529                Boeing            747            186            117180000   \n",
       "\n",
       "       New Column Weight Category  \n",
       "7517  21561750000           Heavy  \n",
       "7641  21098070000           Heavy  \n",
       "7929  21561750000           Heavy  \n",
       "7964  20639430000           Heavy  \n",
       "9529  21795480000           Heavy  "
      ]
     },
     "execution_count": 51,
     "metadata": {},
     "output_type": "execute_result"
    }
   ],
   "source": [
    "df[(df['GEO Region'] == 'Asia')  & (df['Landing Count'] > 180 )]"
   ]
  },
  {
   "cell_type": "code",
   "execution_count": 52,
   "id": "cb0fcabc-04d1-41c3-a94a-c937f2e36423",
   "metadata": {},
   "outputs": [
    {
     "data": {
      "text/html": [
       "<div>\n",
       "<style scoped>\n",
       "    .dataframe tbody tr th:only-of-type {\n",
       "        vertical-align: middle;\n",
       "    }\n",
       "\n",
       "    .dataframe tbody tr th {\n",
       "        vertical-align: top;\n",
       "    }\n",
       "\n",
       "    .dataframe thead th {\n",
       "        text-align: right;\n",
       "    }\n",
       "</style>\n",
       "<table border=\"1\" class=\"dataframe\">\n",
       "  <thead>\n",
       "    <tr style=\"text-align: right;\">\n",
       "      <th></th>\n",
       "      <th>Operating Airline</th>\n",
       "      <th>GEO Region</th>\n",
       "      <th>Weight Category</th>\n",
       "    </tr>\n",
       "  </thead>\n",
       "  <tbody>\n",
       "    <tr>\n",
       "      <th>0</th>\n",
       "      <td>SkyWest Airlines</td>\n",
       "      <td>Canada</td>\n",
       "      <td>Light</td>\n",
       "    </tr>\n",
       "    <tr>\n",
       "      <th>1</th>\n",
       "      <td>Air Canada</td>\n",
       "      <td>Canada</td>\n",
       "      <td>Light</td>\n",
       "    </tr>\n",
       "    <tr>\n",
       "      <th>2</th>\n",
       "      <td>Japan Airlines</td>\n",
       "      <td>Asia</td>\n",
       "      <td>Light</td>\n",
       "    </tr>\n",
       "    <tr>\n",
       "      <th>3</th>\n",
       "      <td>COPA Airlines, Inc.</td>\n",
       "      <td>Central America</td>\n",
       "      <td>Light</td>\n",
       "    </tr>\n",
       "    <tr>\n",
       "      <th>4</th>\n",
       "      <td>Hong Kong Airlines Limited</td>\n",
       "      <td>Asia</td>\n",
       "      <td>Light</td>\n",
       "    </tr>\n",
       "    <tr>\n",
       "      <th>5</th>\n",
       "      <td>Finnair</td>\n",
       "      <td>Europe</td>\n",
       "      <td>Light</td>\n",
       "    </tr>\n",
       "    <tr>\n",
       "      <th>6</th>\n",
       "      <td>WOW Air</td>\n",
       "      <td>Europe</td>\n",
       "      <td>Light</td>\n",
       "    </tr>\n",
       "    <tr>\n",
       "      <th>7</th>\n",
       "      <td>United Airlines</td>\n",
       "      <td>Canada</td>\n",
       "      <td>Light</td>\n",
       "    </tr>\n",
       "    <tr>\n",
       "      <th>8</th>\n",
       "      <td>Southwest Airlines</td>\n",
       "      <td>US</td>\n",
       "      <td>Light</td>\n",
       "    </tr>\n",
       "    <tr>\n",
       "      <th>9</th>\n",
       "      <td>Singapore Airlines</td>\n",
       "      <td>Asia</td>\n",
       "      <td>Light</td>\n",
       "    </tr>\n",
       "    <tr>\n",
       "      <th>10</th>\n",
       "      <td>Delta Air Lines</td>\n",
       "      <td>US</td>\n",
       "      <td>Light</td>\n",
       "    </tr>\n",
       "  </tbody>\n",
       "</table>\n",
       "</div>"
      ],
      "text/plain": [
       "             Operating Airline       GEO Region Weight Category\n",
       "0             SkyWest Airlines           Canada           Light\n",
       "1                   Air Canada           Canada           Light\n",
       "2               Japan Airlines             Asia           Light\n",
       "3          COPA Airlines, Inc.  Central America           Light\n",
       "4   Hong Kong Airlines Limited             Asia           Light\n",
       "5                      Finnair           Europe           Light\n",
       "6                      WOW Air           Europe           Light\n",
       "7              United Airlines           Canada           Light\n",
       "8           Southwest Airlines               US           Light\n",
       "9           Singapore Airlines             Asia           Light\n",
       "10             Delta Air Lines               US           Light"
      ]
     },
     "execution_count": 52,
     "metadata": {},
     "output_type": "execute_result"
    }
   ],
   "source": [
    "df.loc[0:10,['Operating Airline','GEO Region','Weight Category']]"
   ]
  },
  {
   "cell_type": "code",
   "execution_count": 5,
   "id": "893364e4-3636-4617-8a9f-3a9bbdd9dd1f",
   "metadata": {},
   "outputs": [
    {
     "data": {
      "text/plain": [
       "pandas.core.frame.DataFrame"
      ]
     },
     "execution_count": 5,
     "metadata": {},
     "output_type": "execute_result"
    }
   ],
   "source": [
    "type(df)"
   ]
  },
  {
   "cell_type": "code",
   "execution_count": 26,
   "id": "d9a27533-a79d-4b11-9de9-856f51cd90a4",
   "metadata": {},
   "outputs": [
    {
     "name": "stdout",
     "output_type": "stream",
     "text": [
      "Operating Airline              0\n",
      "Operating Airline IATA Code    0\n",
      "Published Airline              0\n",
      "Published Airline IATA Code    0\n",
      "GEO Summary                    0\n",
      "GEO Region                     0\n",
      "Landing Aircraft Type          0\n",
      "Aircraft Body Type             0\n",
      "Aircraft Manufacturer          0\n",
      "Aircraft Model                 0\n",
      "Landing Count                  0\n",
      "Total Landed Weight            0\n",
      "dtype: int64\n"
     ]
    }
   ],
   "source": [
    "print(df.isnull().sum())"
   ]
  },
  {
   "cell_type": "code",
   "execution_count": 6,
   "id": "6b7163a5-c53f-45d7-88c7-113ce805160f",
   "metadata": {},
   "outputs": [
    {
     "data": {
      "text/plain": [
       "Operating Airline              object\n",
       "Operating Airline IATA Code    object\n",
       "Published Airline              object\n",
       "Published Airline IATA Code    object\n",
       "GEO Summary                    object\n",
       "GEO Region                     object\n",
       "Landing Aircraft Type          object\n",
       "Aircraft Body Type             object\n",
       "Aircraft Manufacturer          object\n",
       "Aircraft Model                 object\n",
       "Landing Count                   int64\n",
       "Total Landed Weight             int64\n",
       "dtype: object"
      ]
     },
     "execution_count": 6,
     "metadata": {},
     "output_type": "execute_result"
    }
   ],
   "source": [
    "df.dtypes"
   ]
  },
  {
   "cell_type": "code",
   "execution_count": 10,
   "id": "bac25a0a-c6cc-4a14-bdf3-dac6b6fe9a59",
   "metadata": {},
   "outputs": [
    {
     "name": "stdout",
     "output_type": "stream",
     "text": [
      "0                  SkyWest Airlines\n",
      "1                        Air Canada\n",
      "2                    Japan Airlines\n",
      "3               COPA Airlines, Inc.\n",
      "4        Hong Kong Airlines Limited\n",
      "                    ...            \n",
      "22040              SkyWest Airlines\n",
      "22041              SkyWest Airlines\n",
      "22042              SkyWest Airlines\n",
      "22043              SkyWest Airlines\n",
      "22044              SkyWest Airlines\n",
      "Name: Operating Airline, Length: 22045, dtype: object\n"
     ]
    }
   ],
   "source": [
    "print(df['Operating Airline'])"
   ]
  },
  {
   "cell_type": "code",
   "execution_count": 11,
   "id": "e697b522-bc78-4a64-b6ff-3d9b04c19f27",
   "metadata": {},
   "outputs": [
    {
     "name": "stdout",
     "output_type": "stream",
     "text": [
      "['SkyWest Airlines' 'Air Canada' 'Japan Airlines' 'COPA Airlines, Inc.'\n",
      " 'Hong Kong Airlines Limited' 'Finnair' 'WOW Air' 'United Airlines'\n",
      " 'Southwest Airlines' 'Singapore Airlines' 'Delta Air Lines'\n",
      " 'Compass Airlines' 'Emirates' 'American Airlines' 'Air France'\n",
      " 'Volaris Airlines' 'Korean Air Lines' 'Virgin Atlantic'\n",
      " 'Frontier Airlines' 'Sun Country Airlines' 'Atlas Air, Inc'\n",
      " 'China Southern' 'Air Pacific Limited dba Fiji Airways' 'Jazz Aviation'\n",
      " 'Swissport USA' 'China Eastern' 'Air New Zealand' 'Qantas Airways'\n",
      " 'Aeromexico' 'TACA' 'EVA Airways' 'Turkish Airlines'\n",
      " 'Lufthansa German Airlines' 'Air India Limited' 'China Airlines'\n",
      " 'Icelandair EHF' 'Cathay Pacific' 'Aer Lingus' 'Iberia'\n",
      " 'Thomas Cook Airlines' 'Hawaiian Airlines' 'Philippine Airlines'\n",
      " 'Alaska Airlines' 'Redding Aero Enterprises' 'French Bee'\n",
      " 'JetBlue Airways' 'XL Airways France' 'KLM Royal Dutch Airlines'\n",
      " 'Air China' 'Horizon Air' 'All Nippon Airways' 'British Airways'\n",
      " 'SAS Airlines' 'WestJet Airlines' 'Asiana Airlines' 'Swiss International'\n",
      " 'Federal Express' 'Kalitta Air'\n",
      " 'ABC Aerolineas S.A. de C.V. dba Interjet' 'Nippon Cargo Airlines'\n",
      " 'Total Airport Services' 'Virgin America' 'Air Berlin' 'Etihad Airways'\n",
      " 'Trego Dugan Aviation' 'ABX Air' 'Mesa Airlines' 'Ameriflight'\n",
      " 'US Airways' 'Air Cargo Carriers' 'Miami Air International'\n",
      " 'Republic Airlines' 'United Parcel Service Co' 'AirTran Airways'\n",
      " 'Southern Air' 'LAN Peru' 'Servisair' 'Air Transport International, LLC.'\n",
      " 'United Airlines - Pre 07/01/2013' 'World Airways' 'ASTAR USA, LLC'\n",
      " 'Mesaba Airlines' 'Mexicana Airlines' 'Astar Air Cargo'\n",
      " 'Pacific Aviation' 'Midwest Airlines' 'Northwest Airlines'\n",
      " 'American Eagle Airlines' 'E.A.G.L.E.' 'Evergreen International Airlines'\n",
      " 'China Cargo Airlines' 'Allegiant Air' 'Jet Airways'\n",
      " 'ExpressJet Airlines' 'BelAir Airlines' 'Cargolux Airlines'\n",
      " 'ATA Airlines' 'Kitty Hawk Air Cargo' 'Spirit Airlines'\n",
      " 'Atlantic Southeast Airlines' 'Focus Air' 'Tradewinds Airlines'\n",
      " 'Icelandair' 'Air Canada Jazz' 'Xtra Airways' 'Independence Air'\n",
      " 'Boeing Company']\n"
     ]
    }
   ],
   "source": [
    "print(df['Operating Airline'].unique())"
   ]
  },
  {
   "cell_type": "code",
   "execution_count": 12,
   "id": "15d37c7e-cb3a-4b80-81b0-00236ae82d1a",
   "metadata": {},
   "outputs": [
    {
     "name": "stdout",
     "output_type": "stream",
     "text": [
      "     index           Operating Airline\n",
      "0        0            SkyWest Airlines\n",
      "1        1                  Air Canada\n",
      "2        2              Japan Airlines\n",
      "3        3         COPA Airlines, Inc.\n",
      "4        4  Hong Kong Airlines Limited\n",
      "..     ...                         ...\n",
      "102  20014                  Icelandair\n",
      "103  20083             Air Canada Jazz\n",
      "104  20275                Xtra Airways\n",
      "105  21388            Independence Air\n",
      "106  21864              Boeing Company\n",
      "\n",
      "[107 rows x 2 columns]\n"
     ]
    }
   ],
   "source": [
    "unique_airlines = df['Operating Airline'].drop_duplicates().reset_index()\n",
    "print(unique_airlines)"
   ]
  },
  {
   "cell_type": "code",
   "execution_count": 13,
   "id": "f420d433-fc3e-426d-a60f-172d68911b73",
   "metadata": {},
   "outputs": [
    {
     "name": "stdout",
     "output_type": "stream",
     "text": [
      "['Canada' 'Asia' 'Central America' 'Europe' 'US' 'Mexico'\n",
      " 'Australia / Oceania' 'Middle East' 'Caribbean' 'South America']\n"
     ]
    }
   ],
   "source": [
    "print(df['GEO Region'].unique())"
   ]
  },
  {
   "cell_type": "code",
   "execution_count": 14,
   "id": "9f322a2a-c8fe-4f46-a754-2f924afb34db",
   "metadata": {},
   "outputs": [
    {
     "name": "stdout",
     "output_type": "stream",
     "text": [
      "Aircraft Model\n",
      "737          3134\n",
      "747          3004\n",
      "A320         1919\n",
      "777          1763\n",
      "A319         1526\n",
      "             ... \n",
      "IL-62           1\n",
      "MD-87           1\n",
      "C402            1\n",
      "DC-3            1\n",
      "CHIEFTAIN       1\n",
      "Name: count, Length: 89, dtype: int64\n"
     ]
    }
   ],
   "source": [
    "\n",
    "print(df['Aircraft Model'].value_counts())"
   ]
  },
  {
   "cell_type": "code",
   "execution_count": 16,
   "id": "99e3e181-3827-424e-8763-d8979b40617b",
   "metadata": {},
   "outputs": [
    {
     "name": "stdout",
     "output_type": "stream",
     "text": [
      "Aircraft Manufacturer\n",
      "Boeing               13261\n",
      "Airbus                5666\n",
      "Bombardier            1165\n",
      "McDonnell Douglas      853\n",
      "Embraer                686\n",
      "Beechcraft             164\n",
      "Shorts                  70\n",
      "Fairchild               59\n",
      "DeHavilland             41\n",
      "Cessna                  29\n",
      "LearJet                 18\n",
      "Swearingen              13\n",
      "Piper                    9\n",
      "BAE-Avro                 6\n",
      "Lockheed                 5\n",
      "Name: count, dtype: int64\n"
     ]
    }
   ],
   "source": [
    "print(df['Aircraft Manufacturer'].value_counts())"
   ]
  },
  {
   "cell_type": "code",
   "execution_count": 17,
   "id": "9603314c-5446-42b1-ae81-d08c79d2ce74",
   "metadata": {},
   "outputs": [
    {
     "name": "stdout",
     "output_type": "stream",
     "text": [
      "GEO Region\n",
      "US                     10840\n",
      "Asia                    4082\n",
      "Europe                  2334\n",
      "Canada                  2028\n",
      "Mexico                  1572\n",
      "Australia / Oceania      647\n",
      "Central America          326\n",
      "Middle East              163\n",
      "South America             50\n",
      "Caribbean                  3\n",
      "Name: count, dtype: int64\n"
     ]
    }
   ],
   "source": [
    "print(df['GEO Region'].value_counts())"
   ]
  },
  {
   "cell_type": "code",
   "execution_count": 15,
   "id": "33e8a674-2fc3-4b6d-8a2f-1a0164a4d9a8",
   "metadata": {},
   "outputs": [
    {
     "name": "stdout",
     "output_type": "stream",
     "text": [
      "Operating Airline\n",
      "ABC Aerolineas S.A. de C.V. dba Interjet     173\n",
      "ABX Air                                     6621\n",
      "ASTAR USA, LLC                               142\n",
      "ATA Airlines                                1396\n",
      "Aer Lingus                                  1883\n",
      "                                            ... \n",
      "WOW Air                                      604\n",
      "WestJet Airlines                            3681\n",
      "World Airways                                192\n",
      "XL Airways France                            238\n",
      "Xtra Airways                                   1\n",
      "Name: Landing Count, Length: 107, dtype: int64\n"
     ]
    }
   ],
   "source": [
    "grouped_data = df.groupby('Operating Airline')['Landing Count'].sum()\n",
    "print(grouped_data)"
   ]
  },
  {
   "cell_type": "code",
   "execution_count": 25,
   "id": "a4a39654-561c-4272-8807-f9157441a443",
   "metadata": {},
   "outputs": [
    {
     "name": "stdout",
     "output_type": "stream",
     "text": [
      "                      Operating Airline Operating Airline IATA Code  \\\n",
      "10812  United Airlines - Pre 07/01/2013                          UA   \n",
      "11361  United Airlines - Pre 07/01/2013                          UA   \n",
      "11993  United Airlines - Pre 07/01/2013                          UA   \n",
      "12349  United Airlines - Pre 07/01/2013                          UA   \n",
      "12397  United Airlines - Pre 07/01/2013                          UA   \n",
      "12514  United Airlines - Pre 07/01/2013                          UA   \n",
      "12660  United Airlines - Pre 07/01/2013                          UA   \n",
      "13412  United Airlines - Pre 07/01/2013                          UA   \n",
      "13526  United Airlines - Pre 07/01/2013                          UA   \n",
      "13599  United Airlines - Pre 07/01/2013                          UA   \n",
      "19421  United Airlines - Pre 07/01/2013                          UA   \n",
      "20288  United Airlines - Pre 07/01/2013                          UA   \n",
      "20438  United Airlines - Pre 07/01/2013                          UA   \n",
      "20632  United Airlines - Pre 07/01/2013                          UA   \n",
      "20760  United Airlines - Pre 07/01/2013                          UA   \n",
      "21311  United Airlines - Pre 07/01/2013                          UA   \n",
      "21456  United Airlines - Pre 07/01/2013                          UA   \n",
      "21794  United Airlines - Pre 07/01/2013                          UA   \n",
      "21915  United Airlines - Pre 07/01/2013                          UA   \n",
      "\n",
      "                      Published Airline Published Airline IATA Code  \\\n",
      "10812  United Airlines - Pre 07/01/2013                          UA   \n",
      "11361  United Airlines - Pre 07/01/2013                          UA   \n",
      "11993  United Airlines - Pre 07/01/2013                          UA   \n",
      "12349  United Airlines - Pre 07/01/2013                          UA   \n",
      "12397  United Airlines - Pre 07/01/2013                          UA   \n",
      "12514  United Airlines - Pre 07/01/2013                          UA   \n",
      "12660  United Airlines - Pre 07/01/2013                          UA   \n",
      "13412  United Airlines - Pre 07/01/2013                          UA   \n",
      "13526  United Airlines - Pre 07/01/2013                          UA   \n",
      "13599  United Airlines - Pre 07/01/2013                          UA   \n",
      "19421  United Airlines - Pre 07/01/2013                          UA   \n",
      "20288  United Airlines - Pre 07/01/2013                          UA   \n",
      "20438  United Airlines - Pre 07/01/2013                          UA   \n",
      "20632  United Airlines - Pre 07/01/2013                          UA   \n",
      "20760  United Airlines - Pre 07/01/2013                          UA   \n",
      "21311  United Airlines - Pre 07/01/2013                          UA   \n",
      "21456  United Airlines - Pre 07/01/2013                          UA   \n",
      "21794  United Airlines - Pre 07/01/2013                          UA   \n",
      "21915  United Airlines - Pre 07/01/2013                          UA   \n",
      "\n",
      "      GEO Summary GEO Region Landing Aircraft Type Aircraft Body Type  \\\n",
      "10812    Domestic         US             Passenger        Narrow Body   \n",
      "11361    Domestic         US             Passenger        Narrow Body   \n",
      "11993    Domestic         US             Passenger        Narrow Body   \n",
      "12349    Domestic         US             Passenger        Narrow Body   \n",
      "12397    Domestic         US             Passenger        Narrow Body   \n",
      "12514    Domestic         US             Passenger        Narrow Body   \n",
      "12660    Domestic         US             Passenger        Narrow Body   \n",
      "13412    Domestic         US             Passenger        Narrow Body   \n",
      "13526    Domestic         US             Passenger        Narrow Body   \n",
      "13599    Domestic         US             Passenger        Narrow Body   \n",
      "19421    Domestic         US             Passenger        Narrow Body   \n",
      "20288    Domestic         US             Passenger        Narrow Body   \n",
      "20438    Domestic         US             Passenger        Narrow Body   \n",
      "20632    Domestic         US             Passenger        Narrow Body   \n",
      "20760    Domestic         US             Passenger        Narrow Body   \n",
      "21311    Domestic         US             Passenger        Narrow Body   \n",
      "21456    Domestic         US             Passenger        Narrow Body   \n",
      "21794    Domestic         US             Passenger        Narrow Body   \n",
      "21915    Domestic         US             Passenger        Narrow Body   \n",
      "\n",
      "      Aircraft Manufacturer Aircraft Model  Landing Count  Total Landed Weight  \n",
      "10812                Boeing            757           1350            267300000  \n",
      "11361                Boeing            757           1280            253440000  \n",
      "11993                Boeing            757           1299            257202000  \n",
      "12349                Boeing            757           1273            252054000  \n",
      "12397                Boeing            757           1319            261162000  \n",
      "12514                Boeing            757           1336            264528000  \n",
      "12660                Boeing            757           1315            260370000  \n",
      "13412                Boeing            757           1297            256806000  \n",
      "13526                Boeing            757           1304            258192000  \n",
      "13599                Boeing            757           1283            254034000  \n",
      "19421                Boeing            757           1264            250272000  \n",
      "20288                Boeing            757           1297            256806000  \n",
      "20438                Boeing            757           1269            251262000  \n",
      "20632                Boeing            757           1278            253044000  \n",
      "20760                Boeing            757           1362            269676000  \n",
      "21311                Boeing            757           1379            273042000  \n",
      "21456                Boeing            757           1314            260172000  \n",
      "21794                Boeing            757           1332            263736000  \n",
      "21915                Boeing            757           1298            257004000  \n"
     ]
    }
   ],
   "source": [
    "filtered_data = df[df['Total Landed Weight'] > 250000000]\n",
    "print(filtered_data)"
   ]
  },
  {
   "cell_type": "code",
   "execution_count": 31,
   "id": "0a81a72d-82a4-45a8-ad81-b1cbba07c599",
   "metadata": {},
   "outputs": [
    {
     "data": {
      "text/plain": [
       "<Axes: ylabel='Frequency'>"
      ]
     },
     "execution_count": 31,
     "metadata": {},
     "output_type": "execute_result"
    },
    {
     "data": {
      "image/png": "[encoded data removed]",
      "text/plain": [
       "<Figure size 640x480 with 1 Axes>"
      ]
     },
     "metadata": {},
     "output_type": "display_data"
    }
   ],
   "source": [
    "df['Landing Count'].plot.hist()"
   ]
  },
  {
   "cell_type": "code",
   "execution_count": 34,
   "id": "2a4bc6bc-f3d7-4c7e-9304-6f34293e4e57",
   "metadata": {},
   "outputs": [
    {
     "data": {
      "text/plain": [
       "<Axes: xlabel='Operating Airline IATA Code'>"
      ]
     },
     "execution_count": 34,
     "metadata": {},
     "output_type": "execute_result"
    },
    {
     "data": {
      "image/png": "[encoded data removed]",
      "text/plain": [
       "<Figure size 640x480 with 1 Axes>"
      ]
     },
     "metadata": {},
     "output_type": "display_data"
    }
   ],
   "source": [
    "df.plot(x='Operating Airline IATA Code', y='Landing Count', kind='line')"
   ]
  },
  {
   "cell_type": "code",
   "execution_count": 35,
   "id": "e24e0ab8-d720-46e8-b26d-7c7cd9afa24d",
   "metadata": {},
   "outputs": [
    {
     "data": {
      "text/plain": [
       "<Axes: xlabel='GEO Region'>"
      ]
     },
     "execution_count": 35,
     "metadata": {},
     "output_type": "execute_result"
    },
    {
     "data": {
      "image/png": "[encoded data removed]",
      "text/plain": [
       "<Figure size 640x480 with 1 Axes>"
      ]
     },
     "metadata": {},
     "output_type": "display_data"
    }
   ],
   "source": [
    "df['GEO Region'].value_counts().plot(kind='bar')"
   ]
  },
  {
   "cell_type": "code",
   "execution_count": 36,
   "id": "9005e720-448d-4b1e-83d6-a351241fe212",
   "metadata": {},
   "outputs": [
    {
     "data": {
      "text/plain": [
       "<Axes: xlabel='Total Landed Weight', ylabel='Landing Count'>"
      ]
     },
     "execution_count": 36,
     "metadata": {},
     "output_type": "execute_result"
    },
    {
     "data": {
      "image/png": "[encoded data removed]",
      "text/plain": [
       "<Figure size 640x480 with 1 Axes>"
      ]
     },
     "metadata": {},
     "output_type": "display_data"
    }
   ],
   "source": [
    "df.plot.scatter(x='Total Landed Weight', y='Landing Count')"
   ]
  },
  {
   "cell_type": "code",
   "execution_count": 37,
   "id": "901eba9c-d676-41b7-9622-09d804e1b974",
   "metadata": {},
   "outputs": [],
   "source": [
    "df['New Column'] = df['Landing Count'] * df['Total Landed Weight']"
   ]
  },
  {
   "cell_type": "code",
   "execution_count": 38,
   "id": "c3c5dd0a-a075-4594-b0ec-e69e7d5d4c14",
   "metadata": {},
   "outputs": [
    {
     "data": {
      "text/html": [
       "<div>\n",
       "<style scoped>\n",
       "    .dataframe tbody tr th:only-of-type {\n",
       "        vertical-align: middle;\n",
       "    }\n",
       "\n",
       "    .dataframe tbody tr th {\n",
       "        vertical-align: top;\n",
       "    }\n",
       "\n",
       "    .dataframe thead th {\n",
       "        text-align: right;\n",
       "    }\n",
       "</style>\n",
       "<table border=\"1\" class=\"dataframe\">\n",
       "  <thead>\n",
       "    <tr style=\"text-align: right;\">\n",
       "      <th></th>\n",
       "      <th>Operating Airline</th>\n",
       "      <th>Operating Airline IATA Code</th>\n",
       "      <th>Published Airline</th>\n",
       "      <th>Published Airline IATA Code</th>\n",
       "      <th>GEO Summary</th>\n",
       "      <th>GEO Region</th>\n",
       "      <th>Landing Aircraft Type</th>\n",
       "      <th>Aircraft Body Type</th>\n",
       "      <th>Aircraft Manufacturer</th>\n",
       "      <th>Aircraft Model</th>\n",
       "      <th>Landing Count</th>\n",
       "      <th>Total Landed Weight</th>\n",
       "      <th>New Column</th>\n",
       "    </tr>\n",
       "  </thead>\n",
       "  <tbody>\n",
       "    <tr>\n",
       "      <th>0</th>\n",
       "      <td>SkyWest Airlines</td>\n",
       "      <td>OO</td>\n",
       "      <td>United Airlines</td>\n",
       "      <td>UA</td>\n",
       "      <td>International</td>\n",
       "      <td>Canada</td>\n",
       "      <td>Passenger</td>\n",
       "      <td>Regional Jet</td>\n",
       "      <td>Bombardier</td>\n",
       "      <td>CRJ2</td>\n",
       "      <td>30</td>\n",
       "      <td>1410000</td>\n",
       "      <td>42300000</td>\n",
       "    </tr>\n",
       "    <tr>\n",
       "      <th>1</th>\n",
       "      <td>Air Canada</td>\n",
       "      <td>AC</td>\n",
       "      <td>Air Canada</td>\n",
       "      <td>AC</td>\n",
       "      <td>International</td>\n",
       "      <td>Canada</td>\n",
       "      <td>Passenger</td>\n",
       "      <td>Narrow Body</td>\n",
       "      <td>Airbus</td>\n",
       "      <td>A320</td>\n",
       "      <td>125</td>\n",
       "      <td>17787978</td>\n",
       "      <td>2223497250</td>\n",
       "    </tr>\n",
       "    <tr>\n",
       "      <th>2</th>\n",
       "      <td>Japan Airlines</td>\n",
       "      <td>JL</td>\n",
       "      <td>Japan Airlines</td>\n",
       "      <td>JL</td>\n",
       "      <td>International</td>\n",
       "      <td>Asia</td>\n",
       "      <td>Passenger</td>\n",
       "      <td>Wide Body</td>\n",
       "      <td>Boeing</td>\n",
       "      <td>B773</td>\n",
       "      <td>30</td>\n",
       "      <td>16620000</td>\n",
       "      <td>498600000</td>\n",
       "    </tr>\n",
       "    <tr>\n",
       "      <th>3</th>\n",
       "      <td>COPA Airlines, Inc.</td>\n",
       "      <td>CM</td>\n",
       "      <td>COPA Airlines, Inc.</td>\n",
       "      <td>CM</td>\n",
       "      <td>International</td>\n",
       "      <td>Central America</td>\n",
       "      <td>Passenger</td>\n",
       "      <td>Narrow Body</td>\n",
       "      <td>Boeing</td>\n",
       "      <td>B739</td>\n",
       "      <td>3</td>\n",
       "      <td>491700</td>\n",
       "      <td>1475100</td>\n",
       "    </tr>\n",
       "    <tr>\n",
       "      <th>4</th>\n",
       "      <td>Hong Kong Airlines Limited</td>\n",
       "      <td>HX</td>\n",
       "      <td>Hong Kong Airlines Limited</td>\n",
       "      <td>HX</td>\n",
       "      <td>International</td>\n",
       "      <td>Asia</td>\n",
       "      <td>Passenger</td>\n",
       "      <td>Wide Body</td>\n",
       "      <td>Airbus</td>\n",
       "      <td>A359</td>\n",
       "      <td>16</td>\n",
       "      <td>7301712</td>\n",
       "      <td>116827392</td>\n",
       "    </tr>\n",
       "  </tbody>\n",
       "</table>\n",
       "</div>"
      ],
      "text/plain": [
       "            Operating Airline Operating Airline IATA Code  \\\n",
       "0            SkyWest Airlines                          OO   \n",
       "1                  Air Canada                          AC   \n",
       "2              Japan Airlines                          JL   \n",
       "3         COPA Airlines, Inc.                          CM   \n",
       "4  Hong Kong Airlines Limited                          HX   \n",
       "\n",
       "            Published Airline Published Airline IATA Code    GEO Summary  \\\n",
       "0             United Airlines                          UA  International   \n",
       "1                  Air Canada                          AC  International   \n",
       "2              Japan Airlines                          JL  International   \n",
       "3         COPA Airlines, Inc.                          CM  International   \n",
       "4  Hong Kong Airlines Limited                          HX  International   \n",
       "\n",
       "        GEO Region Landing Aircraft Type Aircraft Body Type  \\\n",
       "0           Canada             Passenger       Regional Jet   \n",
       "1           Canada             Passenger        Narrow Body   \n",
       "2             Asia             Passenger          Wide Body   \n",
       "3  Central America             Passenger        Narrow Body   \n",
       "4             Asia             Passenger          Wide Body   \n",
       "\n",
       "  Aircraft Manufacturer Aircraft Model  Landing Count  Total Landed Weight  \\\n",
       "0            Bombardier           CRJ2             30              1410000   \n",
       "1                Airbus           A320            125             17787978   \n",
       "2                Boeing           B773             30             16620000   \n",
       "3                Boeing           B739              3               491700   \n",
       "4                Airbus           A359             16              7301712   \n",
       "\n",
       "   New Column  \n",
       "0    42300000  \n",
       "1  2223497250  \n",
       "2   498600000  \n",
       "3     1475100  \n",
       "4   116827392  "
      ]
     },
     "execution_count": 38,
     "metadata": {},
     "output_type": "execute_result"
    }
   ],
   "source": [
    "df.head()"
   ]
  },
  {
   "cell_type": "code",
   "execution_count": 41,
   "id": "231b7a95-c44d-49d2-8a53-1ff0ae900651",
   "metadata": {},
   "outputs": [],
   "source": [
    "def weight_category(weight):\n",
    "    if weight > 100000000:\n",
    "        return 'Heavy'\n",
    "    else:\n",
    "        return 'Light'\n",
    "\n",
    "df['Weight Category'] = df['Total Landed Weight'].apply(weight_category)"
   ]
  },
  {
   "cell_type": "code",
   "execution_count": 42,
   "id": "1fe7b65b-42ce-42c6-9da9-05a0419275e2",
   "metadata": {},
   "outputs": [
    {
     "data": {
      "text/html": [
       "<div>\n",
       "<style scoped>\n",
       "    .dataframe tbody tr th:only-of-type {\n",
       "        vertical-align: middle;\n",
       "    }\n",
       "\n",
       "    .dataframe tbody tr th {\n",
       "        vertical-align: top;\n",
       "    }\n",
       "\n",
       "    .dataframe thead th {\n",
       "        text-align: right;\n",
       "    }\n",
       "</style>\n",
       "<table border=\"1\" class=\"dataframe\">\n",
       "  <thead>\n",
       "    <tr style=\"text-align: right;\">\n",
       "      <th></th>\n",
       "      <th>Operating Airline</th>\n",
       "      <th>Operating Airline IATA Code</th>\n",
       "      <th>Published Airline</th>\n",
       "      <th>Published Airline IATA Code</th>\n",
       "      <th>GEO Summary</th>\n",
       "      <th>GEO Region</th>\n",
       "      <th>Landing Aircraft Type</th>\n",
       "      <th>Aircraft Body Type</th>\n",
       "      <th>Aircraft Manufacturer</th>\n",
       "      <th>Aircraft Model</th>\n",
       "      <th>Landing Count</th>\n",
       "      <th>Total Landed Weight</th>\n",
       "      <th>New Column</th>\n",
       "      <th>Weight Category</th>\n",
       "    </tr>\n",
       "  </thead>\n",
       "  <tbody>\n",
       "    <tr>\n",
       "      <th>0</th>\n",
       "      <td>SkyWest Airlines</td>\n",
       "      <td>OO</td>\n",
       "      <td>United Airlines</td>\n",
       "      <td>UA</td>\n",
       "      <td>International</td>\n",
       "      <td>Canada</td>\n",
       "      <td>Passenger</td>\n",
       "      <td>Regional Jet</td>\n",
       "      <td>Bombardier</td>\n",
       "      <td>CRJ2</td>\n",
       "      <td>30</td>\n",
       "      <td>1410000</td>\n",
       "      <td>42300000</td>\n",
       "      <td>Light</td>\n",
       "    </tr>\n",
       "    <tr>\n",
       "      <th>1</th>\n",
       "      <td>Air Canada</td>\n",
       "      <td>AC</td>\n",
       "      <td>Air Canada</td>\n",
       "      <td>AC</td>\n",
       "      <td>International</td>\n",
       "      <td>Canada</td>\n",
       "      <td>Passenger</td>\n",
       "      <td>Narrow Body</td>\n",
       "      <td>Airbus</td>\n",
       "      <td>A320</td>\n",
       "      <td>125</td>\n",
       "      <td>17787978</td>\n",
       "      <td>2223497250</td>\n",
       "      <td>Light</td>\n",
       "    </tr>\n",
       "    <tr>\n",
       "      <th>2</th>\n",
       "      <td>Japan Airlines</td>\n",
       "      <td>JL</td>\n",
       "      <td>Japan Airlines</td>\n",
       "      <td>JL</td>\n",
       "      <td>International</td>\n",
       "      <td>Asia</td>\n",
       "      <td>Passenger</td>\n",
       "      <td>Wide Body</td>\n",
       "      <td>Boeing</td>\n",
       "      <td>B773</td>\n",
       "      <td>30</td>\n",
       "      <td>16620000</td>\n",
       "      <td>498600000</td>\n",
       "      <td>Light</td>\n",
       "    </tr>\n",
       "    <tr>\n",
       "      <th>3</th>\n",
       "      <td>COPA Airlines, Inc.</td>\n",
       "      <td>CM</td>\n",
       "      <td>COPA Airlines, Inc.</td>\n",
       "      <td>CM</td>\n",
       "      <td>International</td>\n",
       "      <td>Central America</td>\n",
       "      <td>Passenger</td>\n",
       "      <td>Narrow Body</td>\n",
       "      <td>Boeing</td>\n",
       "      <td>B739</td>\n",
       "      <td>3</td>\n",
       "      <td>491700</td>\n",
       "      <td>1475100</td>\n",
       "      <td>Light</td>\n",
       "    </tr>\n",
       "    <tr>\n",
       "      <th>4</th>\n",
       "      <td>Hong Kong Airlines Limited</td>\n",
       "      <td>HX</td>\n",
       "      <td>Hong Kong Airlines Limited</td>\n",
       "      <td>HX</td>\n",
       "      <td>International</td>\n",
       "      <td>Asia</td>\n",
       "      <td>Passenger</td>\n",
       "      <td>Wide Body</td>\n",
       "      <td>Airbus</td>\n",
       "      <td>A359</td>\n",
       "      <td>16</td>\n",
       "      <td>7301712</td>\n",
       "      <td>116827392</td>\n",
       "      <td>Light</td>\n",
       "    </tr>\n",
       "  </tbody>\n",
       "</table>\n",
       "</div>"
      ],
      "text/plain": [
       "            Operating Airline Operating Airline IATA Code  \\\n",
       "0            SkyWest Airlines                          OO   \n",
       "1                  Air Canada                          AC   \n",
       "2              Japan Airlines                          JL   \n",
       "3         COPA Airlines, Inc.                          CM   \n",
       "4  Hong Kong Airlines Limited                          HX   \n",
       "\n",
       "            Published Airline Published Airline IATA Code    GEO Summary  \\\n",
       "0             United Airlines                          UA  International   \n",
       "1                  Air Canada                          AC  International   \n",
       "2              Japan Airlines                          JL  International   \n",
       "3         COPA Airlines, Inc.                          CM  International   \n",
       "4  Hong Kong Airlines Limited                          HX  International   \n",
       "\n",
       "        GEO Region Landing Aircraft Type Aircraft Body Type  \\\n",
       "0           Canada             Passenger       Regional Jet   \n",
       "1           Canada             Passenger        Narrow Body   \n",
       "2             Asia             Passenger          Wide Body   \n",
       "3  Central America             Passenger        Narrow Body   \n",
       "4             Asia             Passenger          Wide Body   \n",
       "\n",
       "  Aircraft Manufacturer Aircraft Model  Landing Count  Total Landed Weight  \\\n",
       "0            Bombardier           CRJ2             30              1410000   \n",
       "1                Airbus           A320            125             17787978   \n",
       "2                Boeing           B773             30             16620000   \n",
       "3                Boeing           B739              3               491700   \n",
       "4                Airbus           A359             16              7301712   \n",
       "\n",
       "   New Column Weight Category  \n",
       "0    42300000           Light  \n",
       "1  2223497250           Light  \n",
       "2   498600000           Light  \n",
       "3     1475100           Light  \n",
       "4   116827392           Light  "
      ]
     },
     "execution_count": 42,
     "metadata": {},
     "output_type": "execute_result"
    }
   ],
   "source": [
    "df.head()"
   ]
  },
  {
   "cell_type": "code",
   "execution_count": 43,
   "id": "cad5b4fc-96b5-403d-8392-05514827bbfc",
   "metadata": {},
   "outputs": [
    {
     "name": "stdout",
     "output_type": "stream",
     "text": [
      "113.39242458607394\n"
     ]
    }
   ],
   "source": [
    "mean_count = df['Landing Count'].mean()\n",
    "print(mean_count)"
   ]
  },
  {
   "cell_type": "code",
   "execution_count": null,
   "id": "45d92eee-f095-4207-b01f-1ddf71ec39e2",
   "metadata": {},
   "outputs": [],
   "source": []
  }
 ],
 "metadata": {
  "kernelspec": {
   "display_name": "Python 3 (ipykernel)",
   "language": "python",
   "name": "python3"
  },
  "language_info": {
   "codemirror_mode": {
    "name": "ipython",
    "version": 3
   },
   "file_extension": ".py",
   "mimetype": "text/x-python",
   "name": "python",
   "nbconvert_exporter": "python",
   "pygments_lexer": "ipython3",
   "version": "3.11.7"
  }
 },
 "nbformat": 4,
 "nbformat_minor": 5
}
